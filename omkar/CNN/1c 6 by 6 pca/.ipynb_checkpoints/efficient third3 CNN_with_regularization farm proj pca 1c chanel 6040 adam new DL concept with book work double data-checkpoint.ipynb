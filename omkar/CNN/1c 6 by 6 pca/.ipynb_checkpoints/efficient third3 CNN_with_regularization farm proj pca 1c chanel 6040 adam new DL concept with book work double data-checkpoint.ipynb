{
 "cells": [
  {
   "cell_type": "code",
   "execution_count": 1,
   "metadata": {
    "scrolled": true
   },
   "outputs": [
    {
     "name": "stderr",
     "output_type": "stream",
     "text": [
      "Using TensorFlow backend.\n"
     ]
    }
   ],
   "source": [
    "import numpy as np\n",
    "from numpy.random import seed\n",
    "from tensorflow import set_random_seed \n",
    "set_random_seed(2)\n",
    "import keras\n",
    "from keras.models import Sequential\n",
    "from keras.layers import Dense, Dropout, Flatten\n",
    "from keras.layers import Conv2D, MaxPooling2D\n",
    "from keras import backend as K\n",
    "seed(1) \n",
    "\n",
    "\n",
    "#from numpy.random import seed\n",
    "#seed(1)\n",
    "\n",
    "y_train = 0\n",
    "plt = []\n",
    "\n",
    "\n",
    "x_train = np.genfromtxt('/Users/ombahiwal/PycharmProjects/test_kvb/omkar/CNN/x_train.csv',delimiter=\",\")\n",
    "y_train = np.genfromtxt('/Users/ombahiwal/PycharmProjects/test_kvb/omkar/CNN/y_train.csv',delimiter=\",\")\n",
    "\n",
    "x_test = np.genfromtxt('/Users/ombahiwal/PycharmProjects/test_kvb/omkar/CNN/x_test.csv',delimiter=\",\")\n",
    "y_test = np.genfromtxt('/Users/ombahiwal/PycharmProjects/test_kvb/omkar/CNN/y_test.csv',delimiter=\",\")"
   ]
  },
  {
   "cell_type": "code",
   "execution_count": 2,
   "metadata": {
    "scrolled": true
   },
   "outputs": [
    {
     "name": "stdout",
     "output_type": "stream",
     "text": [
      "[0. 0. 0. 0. 0. 0. 0. 0. 0. 0. 0. 0. 0. 0. 0. 0. 0. 0. 0. 0. 0. 0. 0. 0.\n",
      " 0. 0. 0. 0. 0. 0. 0. 0. 0. 0. 0. 0. 0. 0. 0. 0. 0. 0. 0. 0. 0. 0. 0. 0.\n",
      " 0. 0. 0. 0. 0. 0. 0. 0. 0. 0. 0. 0. 0. 0. 0. 0. 0. 0. 0. 0. 0. 0. 0. 0.\n",
      " 0. 0. 0. 0. 0. 0. 0. 1. 1. 1. 1. 1. 1. 1. 1. 1. 1. 1. 1. 1. 1. 1. 1. 1.\n",
      " 1. 1. 1. 1. 1. 1. 1. 1. 1. 1. 1. 1. 2. 2. 2. 2. 2. 2. 2. 2. 2. 2. 2. 2.\n",
      " 2. 2. 2. 2. 2. 2. 2. 2. 2. 2. 2. 2. 2. 2. 2. 2. 2. 2. 2. 2. 2. 2. 2. 2.\n",
      " 2. 2. 2. 2. 2. 2. 0. 0. 0. 0. 0. 0. 0. 0. 0. 0. 0. 0. 0. 0. 0. 0. 0. 0.\n",
      " 0. 0. 0. 0. 0. 0. 0. 0. 0. 0. 0. 0. 0. 0. 0. 0. 0. 0. 0. 0. 0. 0. 0. 0.\n",
      " 0. 0. 0. 0. 0. 0. 0. 0. 0. 0. 0. 0. 0. 0. 0. 0. 0. 0. 0. 0. 0. 0. 0. 0.\n",
      " 0. 0. 0. 0. 0. 0. 0. 0. 0. 0. 0. 0. 0. 1. 1. 1. 1. 1. 1. 1. 1. 1. 1. 1.\n",
      " 1. 1. 1. 1. 1. 1. 1. 1. 1. 1. 1. 1. 1. 1. 1. 1. 1. 1. 2. 2. 2. 2. 2. 2.\n",
      " 2. 2. 2. 2. 2. 2. 2. 2. 2. 2. 2. 2. 2. 2. 2. 2. 2. 2. 2. 2. 2. 2. 2. 2.\n",
      " 2. 2. 2. 2. 2. 2. 2. 2. 2. 2. 2. 2.]\n"
     ]
    }
   ],
   "source": [
    "batch_size = 16 # Number of Images to send into the network for each pass \n",
    "num_classes = 3 # Total number of classes \n",
    "epochs = 7 # Total number of times the dataset has to be sent through the network\n",
    "print(y_train)"
   ]
  },
  {
   "cell_type": "code",
   "execution_count": 3,
   "metadata": {},
   "outputs": [
    {
     "name": "stdout",
     "output_type": "stream",
     "text": [
      "[[ 9.37815253 -0.24943754 -7.3383299  ... -0.11936099 -0.4741766\n",
      "   0.03899424]\n",
      " [ 1.12205785 -0.77647955 -3.39432006 ... -0.12118604  0.41831302\n",
      "  -0.39720682]\n",
      " [-4.10980835  7.1403527  -2.4022703  ... -0.0699018  -0.16162688\n",
      "  -0.02932583]\n",
      " ...\n",
      " [ 9.95619185 12.9309428  11.19465961 ...  0.53512483 -0.35088907\n",
      "  -0.26305556]\n",
      " [ 8.26711508  6.66716042  9.44290216 ...  0.28525675  0.02208326\n",
      "   0.28181373]\n",
      " [ 5.87644443  2.25542821  9.15078605 ...  0.85203793 -0.21414645\n",
      "   0.1388367 ]]\n"
     ]
    }
   ],
   "source": [
    "print(x_train)"
   ]
  },
  {
   "cell_type": "code",
   "execution_count": 4,
   "metadata": {},
   "outputs": [
    {
     "name": "stdout",
     "output_type": "stream",
     "text": [
      "((300, 36), (300,))\n"
     ]
    }
   ],
   "source": [
    "print(x_train.shape, y_train.shape)"
   ]
  },
  {
   "cell_type": "code",
   "execution_count": 5,
   "metadata": {},
   "outputs": [
    {
     "name": "stdout",
     "output_type": "stream",
     "text": [
      "(300, 'train samples')\n",
      "(200, 'test samples')\n"
     ]
    }
   ],
   "source": [
    "print(x_train.shape[0], 'train samples')\n",
    "print(x_test.shape[0], 'test samples')"
   ]
  },
  {
   "cell_type": "code",
   "execution_count": 6,
   "metadata": {},
   "outputs": [],
   "source": [
    "y_train = keras.utils.to_categorical(y_train, num_classes)\n",
    "y_test = keras.utils.to_categorical(y_test, num_classes)"
   ]
  },
  {
   "cell_type": "code",
   "execution_count": 7,
   "metadata": {},
   "outputs": [],
   "source": [
    "# We know that MNIST images are 28 pixels in each dimension.\n",
    "img_size = 6\n",
    "\n",
    "# Images are stored in one-dimensional arrays of this length.\n",
    "img_size_flat = img_size * img_size\n",
    "\n",
    "# Tuple with height and width of images used to reshape arrays.\n",
    "img_shape = (img_size, img_size)\n",
    "\n",
    "# Number of colour channels for the images: 1 channel for gray-scale.\n",
    "num_channels = 1"
   ]
  },
  {
   "cell_type": "code",
   "execution_count": 8,
   "metadata": {},
   "outputs": [
    {
     "name": "stdout",
     "output_type": "stream",
     "text": [
      "(6, 6, 1)\n"
     ]
    }
   ],
   "source": [
    "# Resizing the dataset into (Samples, height, width, channels)\n",
    "x_train = x_train.reshape(x_train.shape[0], img_size, img_size, 1)\n",
    "x_test = x_test.reshape(x_test.shape[0], img_size, img_size, 1)\n",
    "input_shape = (img_size, img_size, 1)\n",
    "print input_shape"
   ]
  },
  {
   "cell_type": "code",
   "execution_count": 9,
   "metadata": {},
   "outputs": [],
   "source": [
    "%matplotlib inline\n",
    "import matplotlib.pyplot as plt\n",
    "import pandas as pd\n",
    "import numpy as np"
   ]
  },
  {
   "cell_type": "code",
   "execution_count": 10,
   "metadata": {},
   "outputs": [
    {
     "name": "stdout",
     "output_type": "stream",
     "text": [
      "[        acc      loss\n",
      "0  0.626667  0.896158]\n",
      "[        acc      loss\n",
      "0  0.626667  0.896158,         acc    loss\n",
      "0  0.536667  1.0899]\n",
      "[        acc      loss\n",
      "0  0.626667  0.896158,         acc    loss\n",
      "0  0.536667  1.0899,     acc      loss\n",
      "0  0.55  1.311417]\n",
      "[        acc      loss\n",
      "0  0.626667  0.896158,         acc    loss\n",
      "0  0.536667  1.0899,     acc      loss\n",
      "0  0.55  1.311417,         acc      loss\n",
      "0  0.516667  7.365642]\n"
     ]
    }
   ],
   "source": [
    "import keras.backend as K\n",
    "from keras.optimizers import SGD, Adam\n",
    "from keras.layers import MaxPool2D, AvgPool2D\n",
    "from keras.layers import Flatten, Activation\n",
    "dflist = []\n",
    "learning_rates=[0.01, 0.05,0.1,0.5]\n",
    "for lr in learning_rates:\n",
    "    K.clear_session()\n",
    "    model = Sequential()\n",
    "    model.add(Conv2D(25, (3,3), input_shape=input_shape))\n",
    "    model.add(MaxPool2D(pool_size=(2,2)))\n",
    "    model.add(Conv2D(25, (2,2)))\n",
    "    model.add(Activation('relu'))\n",
    "    model.add(Flatten())\n",
    "    model.add(Dense(25, activation='relu'))  #fully connected\n",
    "    model.add(Dense(25, activation='relu'))  #fully connected\n",
    "    model.add(Dense(3,activation='softmax'))  #output layer\n",
    "    model.compile(loss='categorical_crossentropy',\n",
    "                  optimizer=Adam(lr=lr),\n",
    "                  metrics=['accuracy'])\n",
    "    h=model.fit(x_train, y_train, batch_size=16, verbose=0)\n",
    "    dflist.append(pd.DataFrame(h.history,index=h.epoch))\n",
    "    print dflist"
   ]
  },
  {
   "cell_type": "code",
   "execution_count": 11,
   "metadata": {},
   "outputs": [],
   "source": [
    "historydf = pd.concat(dflist, axis=1)"
   ]
  },
  {
   "cell_type": "code",
   "execution_count": 12,
   "metadata": {},
   "outputs": [
    {
     "name": "stdout",
     "output_type": "stream",
     "text": [
      "        acc      loss       acc    loss   acc      loss       acc      loss\n",
      "0  0.626667  0.896158  0.536667  1.0899  0.55  1.311417  0.516667  7.365642\n",
      "_________________________________________________________________\n",
      "Layer (type)                 Output Shape              Param #   \n",
      "=================================================================\n",
      "conv2d_1 (Conv2D)            (None, 4, 4, 25)          250       \n",
      "_________________________________________________________________\n",
      "max_pooling2d_1 (MaxPooling2 (None, 2, 2, 25)          0         \n",
      "_________________________________________________________________\n",
      "conv2d_2 (Conv2D)            (None, 1, 1, 25)          2525      \n",
      "_________________________________________________________________\n",
      "activation_1 (Activation)    (None, 1, 1, 25)          0         \n",
      "_________________________________________________________________\n",
      "flatten_1 (Flatten)          (None, 25)                0         \n",
      "_________________________________________________________________\n",
      "dense_1 (Dense)              (None, 25)                650       \n",
      "_________________________________________________________________\n",
      "dense_2 (Dense)              (None, 25)                650       \n",
      "_________________________________________________________________\n",
      "dense_3 (Dense)              (None, 3)                 78        \n",
      "=================================================================\n",
      "Total params: 4,153\n",
      "Trainable params: 4,153\n",
      "Non-trainable params: 0\n",
      "_________________________________________________________________\n"
     ]
    }
   ],
   "source": [
    "print historydf\n",
    "model.summary()"
   ]
  },
  {
   "cell_type": "code",
   "execution_count": 13,
   "metadata": {},
   "outputs": [],
   "source": [
    "metrics_reported=dflist[0].columns\n",
    "idx=pd.MultiIndex.from_product([learning_rates, metrics_reported], names=['Learning Rates','metrics'])\n",
    "\n",
    "historydf.columns = idx"
   ]
  },
  {
   "cell_type": "code",
   "execution_count": 14,
   "metadata": {},
   "outputs": [
    {
     "name": "stdout",
     "output_type": "stream",
     "text": [
      "Learning Rates      0.01                0.05          0.10            \\\n",
      "metrics              acc      loss       acc    loss   acc      loss   \n",
      "0               0.626667  0.896158  0.536667  1.0899  0.55  1.311417   \n",
      "\n",
      "Learning Rates      0.50            \n",
      "metrics              acc      loss  \n",
      "0               0.516667  7.365642  \n"
     ]
    }
   ],
   "source": [
    "print historydf"
   ]
  },
  {
   "cell_type": "code",
   "execution_count": 15,
   "metadata": {},
   "outputs": [
    {
     "data": {
      "image/png": "[encoded data removed]",
      "text/plain": [
       "<Figure size 432x288 with 2 Axes>"
      ]
     },
     "metadata": {
      "needs_background": "light"
     },
     "output_type": "display_data"
    }
   ],
   "source": [
    "ax=plt.subplot(211)\n",
    "historydf.xs('loss', axis=1,level='metrics').plot(ylim =(0,1), ax=ax)\n",
    "plt.title(\"Loss\")\n",
    "\n",
    "ax=plt.subplot(212)\n",
    "historydf.xs('acc', axis=1,level='metrics').plot(ylim=(0,1), ax=ax)\n",
    "plt.title(\"Accuracy\")\n",
    "\n",
    "plt.xlabel(\"Epochs\")\n",
    "\n",
    "plt.tight_layout()"
   ]
  },
  {
   "cell_type": "markdown",
   "metadata": {
    "collapsed": true
   },
   "source": [
    "# Batch size\n"
   ]
  },
  {
   "cell_type": "code",
   "execution_count": 17,
   "metadata": {},
   "outputs": [
    {
     "ename": "NameError",
     "evalue": "name 'batch_sizes' is not defined",
     "output_type": "error",
     "traceback": [
      "\u001b[0;31m\u001b[0m",
      "\u001b[0;31mNameError\u001b[0mTraceback (most recent call last)",
      "\u001b[0;32m<ipython-input-17-a9696ade1e00>\u001b[0m in \u001b[0;36m<module>\u001b[0;34m()\u001b[0m\n\u001b[1;32m      1\u001b[0m \u001b[0mmetrics_reported\u001b[0m\u001b[0;34m=\u001b[0m\u001b[0mdflist\u001b[0m\u001b[0;34m[\u001b[0m\u001b[0;36m0\u001b[0m\u001b[0;34m]\u001b[0m\u001b[0;34m.\u001b[0m\u001b[0mcolumns\u001b[0m\u001b[0;34m\u001b[0m\u001b[0m\n\u001b[0;32m----> 2\u001b[0;31m \u001b[0midx\u001b[0m\u001b[0;34m=\u001b[0m\u001b[0mpd\u001b[0m\u001b[0;34m.\u001b[0m\u001b[0mMultiIndex\u001b[0m\u001b[0;34m.\u001b[0m\u001b[0mfrom_product\u001b[0m\u001b[0;34m(\u001b[0m\u001b[0;34m[\u001b[0m\u001b[0mbatch_sizes\u001b[0m\u001b[0;34m,\u001b[0m \u001b[0mmetrics_reported\u001b[0m\u001b[0;34m]\u001b[0m\u001b[0;34m,\u001b[0m \u001b[0mnames\u001b[0m\u001b[0;34m=\u001b[0m\u001b[0;34m[\u001b[0m\u001b[0;34m'batch_size'\u001b[0m\u001b[0;34m,\u001b[0m\u001b[0;34m'metrics'\u001b[0m\u001b[0;34m]\u001b[0m\u001b[0;34m)\u001b[0m\u001b[0;34m\u001b[0m\u001b[0m\n\u001b[0m\u001b[1;32m      3\u001b[0m \u001b[0;34m\u001b[0m\u001b[0m\n\u001b[1;32m      4\u001b[0m \u001b[0mhistorydf\u001b[0m\u001b[0;34m.\u001b[0m\u001b[0mcolumns\u001b[0m\u001b[0;34m=\u001b[0m\u001b[0midx\u001b[0m\u001b[0;34m\u001b[0m\u001b[0m\n",
      "\u001b[0;31mNameError\u001b[0m: name 'batch_sizes' is not defined"
     ]
    }
   ],
   "source": [
    "metrics_reported=dflist[0].columns\n",
    "idx=pd.MultiIndex.from_product([batch_sizes, metrics_reported], names=['batch_size','metrics'])\n",
    "\n",
    "historydf.columns=idx"
   ]
  },
  {
   "cell_type": "code",
   "execution_count": 18,
   "metadata": {},
   "outputs": [],
   "source": [
    "dflist=[]\n",
    "batch_sizes=[16,32,64,128]\n",
    "for batch_size in batch_sizes:\n",
    "    K.clear_session()\n",
    "    \n",
    "    model=Sequential()\n",
    "    model.add(Conv2D(25, (3,3), input_shape=input_shape))\n",
    "    model.add(MaxPool2D(pool_size=(2,2)))\n",
    "    model.add(Conv2D(25, (2,2)))\n",
    "    model.add(Activation('relu'))\n",
    "    model.add(Flatten())\n",
    "    model.add(Dense(25, activation='relu'))  #fully connected\n",
    "    model.add(Dense(25, activation='relu'))  #fully connected\n",
    "    model.add(Dense(3,activation='softmax'))  #output layer\n",
    "    model.compile(loss='categorical_crossentropy',\n",
    "              optimizer=Adam(lr=0.01),\n",
    "             metrics=['accuracy'])\n",
    "    h=model.fit(x_train,y_train, batch_size=batch_size, verbose=0)\n",
    "    dflist.append(pd.DataFrame(h.history,index=h.epoch)) "
   ]
  },
  {
   "cell_type": "code",
   "execution_count": 19,
   "metadata": {},
   "outputs": [
    {
     "name": "stdout",
     "output_type": "stream",
     "text": [
      "Learning Rates      0.01                0.05          0.10            \\\n",
      "metrics              acc      loss       acc    loss   acc      loss   \n",
      "0               0.626667  0.896158  0.536667  1.0899  0.55  1.311417   \n",
      "\n",
      "Learning Rates      0.50            \n",
      "metrics              acc      loss  \n",
      "0               0.516667  7.365642  \n"
     ]
    }
   ],
   "source": [
    "print historydf"
   ]
  },
  {
   "cell_type": "code",
   "execution_count": 20,
   "metadata": {},
   "outputs": [
    {
     "data": {
      "image/png": "[encoded data removed]",
      "text/plain": [
       "<Figure size 432x288 with 2 Axes>"
      ]
     },
     "metadata": {
      "needs_background": "light"
     },
     "output_type": "display_data"
    }
   ],
   "source": [
    "ax=plt.subplot(211)\n",
    "historydf.xs('loss', axis=1,level='metrics').plot(ylim =(0,1), ax=ax)\n",
    "plt.title(\"Loss\")\n",
    "\n",
    "ax=plt.subplot(212)\n",
    "historydf.xs('acc', axis=1,level='metrics').plot(ylim=(0,1), ax=ax)\n",
    "plt.title(\"Accuracy\")\n",
    "\n",
    "plt.xlabel(\"Epochs\")\n",
    "\n",
    "plt.tight_layout()"
   ]
  },
  {
   "cell_type": "markdown",
   "metadata": {
    "collapsed": true
   },
   "source": [
    "# Optimizer\n"
   ]
  },
  {
   "cell_type": "code",
   "execution_count": 21,
   "metadata": {},
   "outputs": [],
   "source": [
    "from keras.optimizers import SGD, Adam, Adagrad, RMSprop"
   ]
  },
  {
   "cell_type": "code",
   "execution_count": 22,
   "metadata": {},
   "outputs": [],
   "source": [
    "dflist=[]\n",
    "optimizers=['SGD(lr=0.01)',\n",
    "           'SGD(lr=0.01, momentum=0.3)',\n",
    "           'SGD(lr=0.01, momentum=0.3, nesterov=True)',\n",
    "           'Adam(lr=0.01)',\n",
    "           'Adagrad(lr=0.01)',\n",
    "           'RMSprop(lr=0.01)']\n",
    "for opt_name in optimizers:\n",
    "    K.clear_session()\n",
    "    model=Sequential()\n",
    "    model.add(Conv2D(25, (3,3), input_shape=input_shape))\n",
    "    model.add(MaxPool2D(pool_size=(2,2)))\n",
    "    model.add(Conv2D(25, (2,2)))\n",
    "    model.add(Activation('relu'))\n",
    "    model.add(Flatten())\n",
    "    model.add(Dense(25, activation='relu'))  #fully connected\n",
    "    model.add(Dense(25, activation='relu'))  #fully connected\n",
    "    model.add(Dense(3,activation='softmax'))  #output layer\n",
    "    model.compile(loss='categorical_crossentropy',\n",
    "                  optimizer=eval(opt_name),\n",
    "                  metrics=['accuracy'])\n",
    "    h=model.fit(x_train,y_train, batch_size=16, epochs=10, verbose=0)\n",
    "    dflist.append(pd.DataFrame(h.history,index=h.epoch))   "
   ]
  },
  {
   "cell_type": "code",
   "execution_count": 23,
   "metadata": {},
   "outputs": [],
   "source": [
    "historydf=pd.concat(dflist,axis=1)\n",
    "metrics_reported=dflist[0].columns\n",
    "idx=pd.MultiIndex.from_product([optimizers, metrics_reported], names=['optimizers','metric'])\n",
    "\n",
    "historydf.columns=idx"
   ]
  },
  {
   "cell_type": "code",
   "execution_count": 24,
   "metadata": {},
   "outputs": [
    {
     "name": "stdout",
     "output_type": "stream",
     "text": [
      "optimizers SGD(lr=0.01)           SGD(lr=0.01, momentum=0.3)            \\\n",
      "metric              acc      loss                        acc      loss   \n",
      "0              0.320000  1.077305                   0.530000  1.040998   \n",
      "1              0.503333  1.005459                   0.543333  1.005689   \n",
      "2              0.630000  0.951285                   0.606667  0.970095   \n",
      "3              0.640000  0.903382                   0.646667  0.927715   \n",
      "4              0.640000  0.861798                   0.656667  0.885337   \n",
      "5              0.646667  0.825797                   0.660000  0.842981   \n",
      "6              0.650000  0.797094                   0.680000  0.806061   \n",
      "7              0.653333  0.772806                   0.686667  0.776093   \n",
      "8              0.660000  0.753793                   0.693333  0.750631   \n",
      "9              0.666667  0.737923                   0.710000  0.726462   \n",
      "\n",
      "optimizers SGD(lr=0.01, momentum=0.3, nesterov=True)           Adam(lr=0.01)  \\\n",
      "metric                                           acc      loss           acc   \n",
      "0                                           0.516667  1.057955      0.570000   \n",
      "1                                           0.530000  1.009433      0.686667   \n",
      "2                                           0.613333  0.965791      0.780000   \n",
      "3                                           0.640000  0.920937      0.800000   \n",
      "4                                           0.633333  0.878488      0.900000   \n",
      "5                                           0.653333  0.843879      0.896667   \n",
      "6                                           0.660000  0.815174      0.920000   \n",
      "7                                           0.666667  0.793307      0.966667   \n",
      "8                                           0.666667  0.772348      0.973333   \n",
      "9                                           0.673333  0.756947      0.980000   \n",
      "\n",
      "optimizers           Adagrad(lr=0.01)           RMSprop(lr=0.01)            \n",
      "metric          loss              acc      loss              acc      loss  \n",
      "0           0.928616         0.636667  0.866122         0.616667  0.918435  \n",
      "1           0.676308         0.740000  0.637451         0.716667  0.689260  \n",
      "2           0.483380         0.766667  0.543711         0.750000  0.604675  \n",
      "3           0.432131         0.780000  0.493279         0.800000  0.459682  \n",
      "4           0.294541         0.793333  0.448261         0.820000  0.458993  \n",
      "5           0.301822         0.813333  0.408366         0.880000  0.296744  \n",
      "6           0.201680         0.840000  0.380406         0.860000  0.426107  \n",
      "7           0.123078         0.886667  0.339369         0.920000  0.225331  \n",
      "8           0.098208         0.886667  0.319856         0.970000  0.145541  \n",
      "9           0.077313         0.910000  0.288976         0.940000  0.306478  \n"
     ]
    }
   ],
   "source": [
    "print historydf"
   ]
  },
  {
   "cell_type": "code",
   "execution_count": 25,
   "metadata": {},
   "outputs": [
    {
     "data": {
      "image/png": "[encoded data removed]",
      "text/plain": [
       "<Figure size 432x288 with 2 Axes>"
      ]
     },
     "metadata": {
      "needs_background": "light"
     },
     "output_type": "display_data"
    }
   ],
   "source": [
    "ax=plt.subplot(211)\n",
    "historydf.xs('loss', axis=1,level='metric').plot(ylim =(0,1), ax=ax)\n",
    "plt.title(\"Loss\")\n",
    "\n",
    "ax=plt.subplot(212)\n",
    "historydf.xs('acc', axis=1,level='metric').plot(ylim=(0,1), ax=ax)\n",
    "plt.title(\"Accuracy\")\n",
    "\n",
    "plt.xlabel(\"Epochs\")\n",
    "\n",
    "plt.tight_layout()"
   ]
  },
  {
   "cell_type": "markdown",
   "metadata": {
    "collapsed": true
   },
   "source": []
  },
  {
   "cell_type": "code",
   "execution_count": null,
   "metadata": {},
   "outputs": [],
   "source": [
    "\n"
   ]
  },
  {
   "cell_type": "markdown",
   "metadata": {},
   "source": [
    "# feed forward deep NN"
   ]
  },
  {
   "cell_type": "code",
   "execution_count": null,
   "metadata": {},
   "outputs": [],
   "source": []
  },
  {
   "cell_type": "code",
   "execution_count": 26,
   "metadata": {},
   "outputs": [],
   "source": [
    "# feed forward deep neural network\n",
    "\n",
    "\n",
    "from keras.optimizers import SGD, Adam, Adagrad, RMSprop\n",
    "\n",
    "dflist=[]\n",
    "optimizers=['SGD(lr=0.01)',\n",
    "           'SGD(lr=0.01, momentum=0.3)',\n",
    "           'SGD(lr=0.01, momentum=0.3, nesterov=True)',\n",
    "           'Adam(lr=0.01)',\n",
    "           'Adagrad(lr=0.01)',\n",
    "           'RMSprop(lr=0.01)']\n",
    "for opt_name in optimizers:\n",
    "    K.clear_session()\n",
    "    model=Sequential()\n",
    " \n",
    "    model.add(Dense(25, activation='relu', input_shape=input_shape)) # Input Dense layer\n",
    "    model.add(Dense(25, activation='relu')) # Input Dense layer\n",
    "    model.add(Dense(25, activation='relu')) # Input Dense layer\n",
    "    \n",
    "    model.add(Flatten())\n",
    "    model.add(Dense(3, activation='softmax')) # Output layer with Softmax activation function\n",
    "   \n",
    "    model.compile(loss='categorical_crossentropy',\n",
    "                  optimizer=eval(opt_name),\n",
    "                  metrics=['accuracy'])\n",
    "    h=model.fit(x_train,y_train, batch_size=16, epochs=10, verbose=0)\n",
    "    dflist.append(pd.DataFrame(h.history,index=h.epoch))\n",
    "\n"
   ]
  },
  {
   "cell_type": "code",
   "execution_count": 27,
   "metadata": {},
   "outputs": [],
   "source": [
    "historydf=pd.concat(dflist,axis=1)\n",
    "metrics_reported=dflist[0].columns\n",
    "idx=pd.MultiIndex.from_product([optimizers, metrics_reported], names=['optimizers','metric'])\n",
    "\n",
    "historydf.columns=idx\n",
    "\n"
   ]
  },
  {
   "cell_type": "code",
   "execution_count": 28,
   "metadata": {},
   "outputs": [
    {
     "data": {
      "text/html": [
       "<div>\n",
       "<style scoped>\n",
       "    .dataframe tbody tr th:only-of-type {\n",
       "        vertical-align: middle;\n",
       "    }\n",
       "\n",
       "    .dataframe tbody tr th {\n",
       "        vertical-align: top;\n",
       "    }\n",
       "\n",
       "    .dataframe thead tr th {\n",
       "        text-align: left;\n",
       "    }\n",
       "</style>\n",
       "<table border=\"1\" class=\"dataframe\">\n",
       "  <thead>\n",
       "    <tr>\n",
       "      <th>optimizers</th>\n",
       "      <th colspan=\"2\" halign=\"left\">SGD(lr=0.01)</th>\n",
       "      <th colspan=\"2\" halign=\"left\">SGD(lr=0.01, momentum=0.3)</th>\n",
       "      <th colspan=\"2\" halign=\"left\">SGD(lr=0.01, momentum=0.3, nesterov=True)</th>\n",
       "      <th colspan=\"2\" halign=\"left\">Adam(lr=0.01)</th>\n",
       "      <th colspan=\"2\" halign=\"left\">Adagrad(lr=0.01)</th>\n",
       "      <th colspan=\"2\" halign=\"left\">RMSprop(lr=0.01)</th>\n",
       "    </tr>\n",
       "    <tr>\n",
       "      <th>metric</th>\n",
       "      <th>acc</th>\n",
       "      <th>loss</th>\n",
       "      <th>acc</th>\n",
       "      <th>loss</th>\n",
       "      <th>acc</th>\n",
       "      <th>loss</th>\n",
       "      <th>acc</th>\n",
       "      <th>loss</th>\n",
       "      <th>acc</th>\n",
       "      <th>loss</th>\n",
       "      <th>acc</th>\n",
       "      <th>loss</th>\n",
       "    </tr>\n",
       "  </thead>\n",
       "  <tbody>\n",
       "    <tr>\n",
       "      <th>0</th>\n",
       "      <td>0.513333</td>\n",
       "      <td>1.046650</td>\n",
       "      <td>0.550000</td>\n",
       "      <td>1.045663</td>\n",
       "      <td>0.456667</td>\n",
       "      <td>1.055886</td>\n",
       "      <td>0.663333</td>\n",
       "      <td>0.811051</td>\n",
       "      <td>0.670000</td>\n",
       "      <td>0.794925</td>\n",
       "      <td>0.626667</td>\n",
       "      <td>0.839996</td>\n",
       "    </tr>\n",
       "    <tr>\n",
       "      <th>1</th>\n",
       "      <td>0.600000</td>\n",
       "      <td>0.981860</td>\n",
       "      <td>0.643333</td>\n",
       "      <td>0.966238</td>\n",
       "      <td>0.630000</td>\n",
       "      <td>0.962894</td>\n",
       "      <td>0.846667</td>\n",
       "      <td>0.389129</td>\n",
       "      <td>0.826667</td>\n",
       "      <td>0.464721</td>\n",
       "      <td>0.853333</td>\n",
       "      <td>0.353797</td>\n",
       "    </tr>\n",
       "    <tr>\n",
       "      <th>2</th>\n",
       "      <td>0.640000</td>\n",
       "      <td>0.937020</td>\n",
       "      <td>0.656667</td>\n",
       "      <td>0.908130</td>\n",
       "      <td>0.670000</td>\n",
       "      <td>0.903220</td>\n",
       "      <td>0.906667</td>\n",
       "      <td>0.224168</td>\n",
       "      <td>0.890000</td>\n",
       "      <td>0.336637</td>\n",
       "      <td>0.886667</td>\n",
       "      <td>0.307540</td>\n",
       "    </tr>\n",
       "    <tr>\n",
       "      <th>3</th>\n",
       "      <td>0.656667</td>\n",
       "      <td>0.898039</td>\n",
       "      <td>0.670000</td>\n",
       "      <td>0.854313</td>\n",
       "      <td>0.670000</td>\n",
       "      <td>0.848756</td>\n",
       "      <td>0.933333</td>\n",
       "      <td>0.159714</td>\n",
       "      <td>0.906667</td>\n",
       "      <td>0.265225</td>\n",
       "      <td>0.926667</td>\n",
       "      <td>0.204701</td>\n",
       "    </tr>\n",
       "    <tr>\n",
       "      <th>4</th>\n",
       "      <td>0.660000</td>\n",
       "      <td>0.863653</td>\n",
       "      <td>0.693333</td>\n",
       "      <td>0.804933</td>\n",
       "      <td>0.666667</td>\n",
       "      <td>0.803485</td>\n",
       "      <td>0.953333</td>\n",
       "      <td>0.151378</td>\n",
       "      <td>0.923333</td>\n",
       "      <td>0.223332</td>\n",
       "      <td>0.956667</td>\n",
       "      <td>0.132148</td>\n",
       "    </tr>\n",
       "    <tr>\n",
       "      <th>5</th>\n",
       "      <td>0.660000</td>\n",
       "      <td>0.829883</td>\n",
       "      <td>0.700000</td>\n",
       "      <td>0.760900</td>\n",
       "      <td>0.666667</td>\n",
       "      <td>0.757372</td>\n",
       "      <td>0.943333</td>\n",
       "      <td>0.161472</td>\n",
       "      <td>0.933333</td>\n",
       "      <td>0.195039</td>\n",
       "      <td>0.933333</td>\n",
       "      <td>0.160999</td>\n",
       "    </tr>\n",
       "    <tr>\n",
       "      <th>6</th>\n",
       "      <td>0.666667</td>\n",
       "      <td>0.800717</td>\n",
       "      <td>0.710000</td>\n",
       "      <td>0.718763</td>\n",
       "      <td>0.683333</td>\n",
       "      <td>0.709476</td>\n",
       "      <td>0.983333</td>\n",
       "      <td>0.070301</td>\n",
       "      <td>0.953333</td>\n",
       "      <td>0.167100</td>\n",
       "      <td>0.950000</td>\n",
       "      <td>0.157909</td>\n",
       "    </tr>\n",
       "    <tr>\n",
       "      <th>7</th>\n",
       "      <td>0.666667</td>\n",
       "      <td>0.771517</td>\n",
       "      <td>0.693333</td>\n",
       "      <td>0.682770</td>\n",
       "      <td>0.716667</td>\n",
       "      <td>0.661698</td>\n",
       "      <td>0.970000</td>\n",
       "      <td>0.053337</td>\n",
       "      <td>0.950000</td>\n",
       "      <td>0.147094</td>\n",
       "      <td>0.963333</td>\n",
       "      <td>0.114174</td>\n",
       "    </tr>\n",
       "    <tr>\n",
       "      <th>8</th>\n",
       "      <td>0.673333</td>\n",
       "      <td>0.744180</td>\n",
       "      <td>0.706667</td>\n",
       "      <td>0.646184</td>\n",
       "      <td>0.733333</td>\n",
       "      <td>0.621822</td>\n",
       "      <td>0.990000</td>\n",
       "      <td>0.029734</td>\n",
       "      <td>0.943333</td>\n",
       "      <td>0.139590</td>\n",
       "      <td>0.956667</td>\n",
       "      <td>0.131910</td>\n",
       "    </tr>\n",
       "    <tr>\n",
       "      <th>9</th>\n",
       "      <td>0.696667</td>\n",
       "      <td>0.715643</td>\n",
       "      <td>0.726667</td>\n",
       "      <td>0.615022</td>\n",
       "      <td>0.736667</td>\n",
       "      <td>0.587666</td>\n",
       "      <td>0.993333</td>\n",
       "      <td>0.042025</td>\n",
       "      <td>0.980000</td>\n",
       "      <td>0.118250</td>\n",
       "      <td>0.966667</td>\n",
       "      <td>0.091896</td>\n",
       "    </tr>\n",
       "  </tbody>\n",
       "</table>\n",
       "</div>"
      ],
      "text/plain": [
       "optimizers SGD(lr=0.01)           SGD(lr=0.01, momentum=0.3)            \\\n",
       "metric              acc      loss                        acc      loss   \n",
       "0              0.513333  1.046650                   0.550000  1.045663   \n",
       "1              0.600000  0.981860                   0.643333  0.966238   \n",
       "2              0.640000  0.937020                   0.656667  0.908130   \n",
       "3              0.656667  0.898039                   0.670000  0.854313   \n",
       "4              0.660000  0.863653                   0.693333  0.804933   \n",
       "5              0.660000  0.829883                   0.700000  0.760900   \n",
       "6              0.666667  0.800717                   0.710000  0.718763   \n",
       "7              0.666667  0.771517                   0.693333  0.682770   \n",
       "8              0.673333  0.744180                   0.706667  0.646184   \n",
       "9              0.696667  0.715643                   0.726667  0.615022   \n",
       "\n",
       "optimizers SGD(lr=0.01, momentum=0.3, nesterov=True)           Adam(lr=0.01)  \\\n",
       "metric                                           acc      loss           acc   \n",
       "0                                           0.456667  1.055886      0.663333   \n",
       "1                                           0.630000  0.962894      0.846667   \n",
       "2                                           0.670000  0.903220      0.906667   \n",
       "3                                           0.670000  0.848756      0.933333   \n",
       "4                                           0.666667  0.803485      0.953333   \n",
       "5                                           0.666667  0.757372      0.943333   \n",
       "6                                           0.683333  0.709476      0.983333   \n",
       "7                                           0.716667  0.661698      0.970000   \n",
       "8                                           0.733333  0.621822      0.990000   \n",
       "9                                           0.736667  0.587666      0.993333   \n",
       "\n",
       "optimizers           Adagrad(lr=0.01)           RMSprop(lr=0.01)            \n",
       "metric          loss              acc      loss              acc      loss  \n",
       "0           0.811051         0.670000  0.794925         0.626667  0.839996  \n",
       "1           0.389129         0.826667  0.464721         0.853333  0.353797  \n",
       "2           0.224168         0.890000  0.336637         0.886667  0.307540  \n",
       "3           0.159714         0.906667  0.265225         0.926667  0.204701  \n",
       "4           0.151378         0.923333  0.223332         0.956667  0.132148  \n",
       "5           0.161472         0.933333  0.195039         0.933333  0.160999  \n",
       "6           0.070301         0.953333  0.167100         0.950000  0.157909  \n",
       "7           0.053337         0.950000  0.147094         0.963333  0.114174  \n",
       "8           0.029734         0.943333  0.139590         0.956667  0.131910  \n",
       "9           0.042025         0.980000  0.118250         0.966667  0.091896  "
      ]
     },
     "execution_count": 28,
     "metadata": {},
     "output_type": "execute_result"
    }
   ],
   "source": [
    "historydf\n"
   ]
  },
  {
   "cell_type": "code",
   "execution_count": 30,
   "metadata": {},
   "outputs": [
    {
     "data": {
      "image/png": "[encoded data removed]",
      "text/plain": [
       "<Figure size 432x288 with 2 Axes>"
      ]
     },
     "metadata": {
      "needs_background": "light"
     },
     "output_type": "display_data"
    }
   ],
   "source": [
    "# import Image\n",
    "plt.rcParams['figure.figsize'] = [10, 5]\n",
    "ax=plt.subplot(211)\n",
    "historydf.xs('loss', axis=1,level='metric').plot(ylim =(0,1), ax=ax)\n",
    "plt.title(\"Loss\")\n",
    "\n",
    "ax=plt.subplot(212)\n",
    "historydf.xs('acc', axis=1,level='metric').plot(ylim=(0,1), ax=ax)\n",
    "plt.title(\"Accuracy\")\n",
    "\n",
    "plt.xlabel(\"Epochs\")\n",
    "\n",
    "plt.tight_layout()\n",
    "plt.savefig('testplot.png')\n",
    "# Image.open('testplot.png').save('testplot.jpg','JPEG')\n",
    "plt.savefig('image.jpg')"
   ]
  },
  {
   "cell_type": "code",
   "execution_count": null,
   "metadata": {},
   "outputs": [],
   "source": []
  }
 ],
 "metadata": {
  "anaconda-cloud": {},
  "kernelspec": {
   "display_name": "Python 2",
   "language": "python",
   "name": "python2"
  },
  "language_info": {
   "codemirror_mode": {
    "name": "ipython",
    "version": 2
   },
   "file_extension": ".py",
   "mimetype": "text/x-python",
   "name": "python",
   "nbconvert_exporter": "python",
   "pygments_lexer": "ipython2",
   "version": "2.7.10"
  }
 },
 "nbformat": 4,
 "nbformat_minor": 1
}
