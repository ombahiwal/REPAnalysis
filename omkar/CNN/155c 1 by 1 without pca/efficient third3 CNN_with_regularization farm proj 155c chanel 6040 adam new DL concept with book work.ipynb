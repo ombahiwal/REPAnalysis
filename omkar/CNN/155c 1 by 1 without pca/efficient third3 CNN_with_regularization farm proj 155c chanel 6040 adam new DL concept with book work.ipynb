{
 "cells": [
  {
   "cell_type": "code",
   "execution_count": 1,
   "metadata": {
    "scrolled": true
   },
   "outputs": [
    {
     "name": "stderr",
     "output_type": "stream",
     "text": [
      "Using TensorFlow backend.\n"
     ]
    }
   ],
   "source": [
    "from numpy.random import seed \n",
    "seed(1) \n",
    "from tensorflow import set_random_seed \n",
    "set_random_seed(2)\n",
    "import keras\n",
    "\n",
    "from keras.models import Sequential\n",
    "from keras.layers import Dense, Dropout, Flatten\n",
    "from keras.layers import Conv2D, MaxPooling2D\n",
    "from keras import backend as K\n",
    "\n",
    "import numpy as np\n",
    "\n",
    "\n",
    "\n",
    "#from numpy.random import seed\n",
    "#seed(1)\n",
    "\n",
    "\n",
    "x_train = np.genfromtxt('E:\\deep learning\\hyper155c1\\data6040/x_train.csv',delimiter=\",\")\n",
    "y_train = np.genfromtxt('E:\\deep learning\\hyper155c1\\data6040/y_train.csv',delimiter=\",\")\n",
    "\n",
    "x_test = np.genfromtxt('E:\\deep learning\\hyper155c1\\data6040/x_test.csv',delimiter=\",\")\n",
    "y_test = np.genfromtxt('E:\\deep learning\\hyper155c1\\data6040/y_test.csv',delimiter=\",\")"
   ]
  },
  {
   "cell_type": "code",
   "execution_count": 2,
   "metadata": {
    "scrolled": true
   },
   "outputs": [
    {
     "name": "stdout",
     "output_type": "stream",
     "text": [
      "[ 0.  0.  0.  0.  0.  0.  0.  0.  0.  0.  0.  0.  0.  0.  0.  0.  0.  0.\n",
      "  0.  0.  0.  0.  0.  0.  0.  0.  0.  0.  0.  0.  0.  0.  0.  0.  0.  0.\n",
      "  0.  0.  0.  0.  0.  0.  0.  0.  0.  0.  0.  0.  0.  0.  0.  0.  0.  0.\n",
      "  0.  0.  0.  0.  0.  0.  0.  0.  0.  0.  0.  0.  0.  0.  0.  0.  0.  0.\n",
      "  0.  0.  0.  0.  0.  0.  0.  1.  1.  1.  1.  1.  1.  1.  1.  1.  1.  1.\n",
      "  1.  1.  1.  1.  1.  1.  1.  1.  1.  1.  1.  1.  1.  1.  1.  1.  1.  1.\n",
      "  2.  2.  2.  2.  2.  2.  2.  2.  2.  2.  2.  2.  2.  2.  2.  2.  2.  2.\n",
      "  2.  2.  2.  2.  2.  2.  2.  2.  2.  2.  2.  2.  2.  2.  2.  2.  2.  2.\n",
      "  2.  2.  2.  2.  2.  2.]\n"
     ]
    }
   ],
   "source": [
    "batch_size = 16 # Number of Images to send into the network for each pass \n",
    "num_classes = 3 # Total number of classes \n",
    "epochs = 7 # Total number of times the dataset has to be sent through the network\n",
    "print(y_train)"
   ]
  },
  {
   "cell_type": "code",
   "execution_count": 3,
   "metadata": {},
   "outputs": [
    {
     "name": "stdout",
     "output_type": "stream",
     "text": [
      "[[ 1579.  1568.  1585. ...,  2148.  3038.  3434.]\n",
      " [ 1545.  1559.  1601. ...,  1490.  1599.  1925.]\n",
      " [ 1493.  1549.  1566. ...,  1184.  1706.  1925.]\n",
      " ..., \n",
      " [ 1644.  1765.  1810. ...,   614.  1439.  1197.]\n",
      " [ 1657.  1751.  1766. ...,   438.  2452.  2498.]\n",
      " [ 1710.  1771.  1797. ...,   701.  1706.  1301.]]\n"
     ]
    }
   ],
   "source": [
    "print(x_train)"
   ]
  },
  {
   "cell_type": "code",
   "execution_count": 4,
   "metadata": {},
   "outputs": [
    {
     "name": "stdout",
     "output_type": "stream",
     "text": [
      "(150, 155) (150,)\n"
     ]
    }
   ],
   "source": [
    "print(x_train.shape, y_train.shape)"
   ]
  },
  {
   "cell_type": "code",
   "execution_count": 5,
   "metadata": {},
   "outputs": [
    {
     "name": "stdout",
     "output_type": "stream",
     "text": [
      "150 train samples\n",
      "100 test samples\n"
     ]
    }
   ],
   "source": [
    "print(x_train.shape[0], 'train samples')\n",
    "print(x_test.shape[0], 'test samples')"
   ]
  },
  {
   "cell_type": "code",
   "execution_count": 6,
   "metadata": {
    "collapsed": true
   },
   "outputs": [],
   "source": [
    "y_train = keras.utils.to_categorical(y_train, num_classes)\n",
    "y_test = keras.utils.to_categorical(y_test, num_classes)"
   ]
  },
  {
   "cell_type": "code",
   "execution_count": 7,
   "metadata": {
    "collapsed": true
   },
   "outputs": [],
   "source": [
    "# We know that MNIST images are 28 pixels in each dimension.\n",
    "img_size = 1\n",
    "\n",
    "# Images are stored in one-dimensional arrays of this length.\n",
    "img_size_flat = img_size * img_size\n",
    "\n",
    "# Tuple with height and width of images used to reshape arrays.\n",
    "img_shape = (img_size, img_size)\n",
    "\n",
    "# Number of colour channels for the images: 1 channel for gray-scale.\n",
    "num_channels = 155"
   ]
  },
  {
   "cell_type": "code",
   "execution_count": 8,
   "metadata": {},
   "outputs": [
    {
     "data": {
      "text/plain": [
       "(1, 1, 155)"
      ]
     },
     "execution_count": 8,
     "metadata": {},
     "output_type": "execute_result"
    }
   ],
   "source": [
    "# Resizing the dataset into (Samples, height, width, channels)\n",
    "x_train = x_train.reshape(x_train.shape[0], img_size, img_size, 155)\n",
    "x_test = x_test.reshape(x_test.shape[0], img_size, img_size, 155)\n",
    "input_shape = (img_size, img_size, 155)\n",
    "input_shape"
   ]
  },
  {
   "cell_type": "code",
   "execution_count": 9,
   "metadata": {
    "collapsed": true
   },
   "outputs": [],
   "source": [
    "%matplotlib inline\n",
    "import matplotlib.pyplot as plt\n",
    "import pandas as pd\n",
    "import numpy as np"
   ]
  },
  {
   "cell_type": "code",
   "execution_count": 10,
   "metadata": {
    "collapsed": true
   },
   "outputs": [],
   "source": [
    "import keras.backend as K\n",
    "from keras.optimizers import SGD, Adam\n",
    "from keras.layers import MaxPool2D, AvgPool2D\n",
    "from keras.layers import Flatten, Activation\n",
    "dflist=[]\n",
    "learning_rates=[0.01, 0.05,0.1,0.5]\n",
    "for lr in learning_rates:\n",
    "    K.clear_session()\n",
    "    model=Sequential()\n",
    "    model.add(Conv2D(25, (1,1), input_shape=input_shape))\n",
    "    model.add(Conv2D(25, (1,1)))\n",
    "    model.add(Activation('relu'))\n",
    "    model.add(Flatten())\n",
    "    model.add(Dense(25, activation='relu'))  #fully connected\n",
    "    model.add(Dense(25, activation='relu'))  #fully connected\n",
    "    model.add(Dense(3,activation='softmax'))  #output layer\n",
    "    model.compile(loss='categorical_crossentropy',\n",
    "                  optimizer=Adam(lr=lr),\n",
    "                  metrics=['accuracy'])\n",
    "    h=model.fit(x_train,y_train, batch_size=16, verbose=0)\n",
    "    dflist.append(pd.DataFrame(h.history,index=h.epoch))"
   ]
  },
  {
   "cell_type": "code",
   "execution_count": 11,
   "metadata": {
    "collapsed": true
   },
   "outputs": [],
   "source": [
    "historydf= pd.concat(dflist, axis=1)"
   ]
  },
  {
   "cell_type": "code",
   "execution_count": 12,
   "metadata": {},
   "outputs": [
    {
     "name": "stdout",
     "output_type": "stream",
     "text": [
      "_________________________________________________________________\n",
      "Layer (type)                 Output Shape              Param #   \n",
      "=================================================================\n",
      "conv2d_1 (Conv2D)            (None, 1, 1, 25)          3900      \n",
      "_________________________________________________________________\n",
      "conv2d_2 (Conv2D)            (None, 1, 1, 25)          650       \n",
      "_________________________________________________________________\n",
      "activation_1 (Activation)    (None, 1, 1, 25)          0         \n",
      "_________________________________________________________________\n",
      "flatten_1 (Flatten)          (None, 25)                0         \n",
      "_________________________________________________________________\n",
      "dense_1 (Dense)              (None, 25)                650       \n",
      "_________________________________________________________________\n",
      "dense_2 (Dense)              (None, 25)                650       \n",
      "_________________________________________________________________\n",
      "dense_3 (Dense)              (None, 3)                 78        \n",
      "=================================================================\n",
      "Total params: 5,928\n",
      "Trainable params: 5,928\n",
      "Non-trainable params: 0\n",
      "_________________________________________________________________\n"
     ]
    }
   ],
   "source": [
    "historydf\n",
    "model.summary()"
   ]
  },
  {
   "cell_type": "code",
   "execution_count": 13,
   "metadata": {
    "collapsed": true
   },
   "outputs": [],
   "source": [
    "metrics_reported=dflist[0].columns\n",
    "idx=pd.MultiIndex.from_product([learning_rates, metrics_reported], names=['Learning Rates','metrics'])\n",
    "\n",
    "historydf.columns=idx"
   ]
  },
  {
   "cell_type": "code",
   "execution_count": 14,
   "metadata": {},
   "outputs": [
    {
     "data": {
      "text/html": [
       "<div>\n",
       "<style>\n",
       "    .dataframe thead tr:only-child th {\n",
       "        text-align: right;\n",
       "    }\n",
       "\n",
       "    .dataframe thead th {\n",
       "        text-align: left;\n",
       "    }\n",
       "\n",
       "    .dataframe tbody tr th {\n",
       "        vertical-align: top;\n",
       "    }\n",
       "</style>\n",
       "<table border=\"1\" class=\"dataframe\">\n",
       "  <thead>\n",
       "    <tr>\n",
       "      <th>Learning Rates</th>\n",
       "      <th colspan=\"2\" halign=\"left\">0.01</th>\n",
       "      <th colspan=\"2\" halign=\"left\">0.05</th>\n",
       "      <th colspan=\"2\" halign=\"left\">0.10</th>\n",
       "      <th colspan=\"2\" halign=\"left\">0.50</th>\n",
       "    </tr>\n",
       "    <tr>\n",
       "      <th>metrics</th>\n",
       "      <th>acc</th>\n",
       "      <th>loss</th>\n",
       "      <th>acc</th>\n",
       "      <th>loss</th>\n",
       "      <th>acc</th>\n",
       "      <th>loss</th>\n",
       "      <th>acc</th>\n",
       "      <th>loss</th>\n",
       "    </tr>\n",
       "  </thead>\n",
       "  <tbody>\n",
       "    <tr>\n",
       "      <th>0</th>\n",
       "      <td>0.28</td>\n",
       "      <td>11.605029</td>\n",
       "      <td>0.193333</td>\n",
       "      <td>13.001930</td>\n",
       "      <td>0.526667</td>\n",
       "      <td>7.629232</td>\n",
       "      <td>0.28</td>\n",
       "      <td>11.605028</td>\n",
       "    </tr>\n",
       "    <tr>\n",
       "      <th>1</th>\n",
       "      <td>0.28</td>\n",
       "      <td>11.605029</td>\n",
       "      <td>0.193333</td>\n",
       "      <td>13.001930</td>\n",
       "      <td>0.526667</td>\n",
       "      <td>7.629232</td>\n",
       "      <td>0.28</td>\n",
       "      <td>11.605029</td>\n",
       "    </tr>\n",
       "    <tr>\n",
       "      <th>2</th>\n",
       "      <td>0.28</td>\n",
       "      <td>11.605029</td>\n",
       "      <td>0.193333</td>\n",
       "      <td>13.001930</td>\n",
       "      <td>0.526667</td>\n",
       "      <td>7.629232</td>\n",
       "      <td>0.28</td>\n",
       "      <td>11.605029</td>\n",
       "    </tr>\n",
       "    <tr>\n",
       "      <th>3</th>\n",
       "      <td>0.28</td>\n",
       "      <td>11.605029</td>\n",
       "      <td>0.193333</td>\n",
       "      <td>13.001931</td>\n",
       "      <td>0.526667</td>\n",
       "      <td>7.629232</td>\n",
       "      <td>0.28</td>\n",
       "      <td>11.605029</td>\n",
       "    </tr>\n",
       "    <tr>\n",
       "      <th>4</th>\n",
       "      <td>0.28</td>\n",
       "      <td>11.605029</td>\n",
       "      <td>0.193333</td>\n",
       "      <td>13.001930</td>\n",
       "      <td>0.526667</td>\n",
       "      <td>7.629232</td>\n",
       "      <td>0.28</td>\n",
       "      <td>11.605029</td>\n",
       "    </tr>\n",
       "    <tr>\n",
       "      <th>5</th>\n",
       "      <td>0.28</td>\n",
       "      <td>11.605029</td>\n",
       "      <td>0.193333</td>\n",
       "      <td>13.001930</td>\n",
       "      <td>0.526667</td>\n",
       "      <td>7.629232</td>\n",
       "      <td>0.28</td>\n",
       "      <td>11.605029</td>\n",
       "    </tr>\n",
       "    <tr>\n",
       "      <th>6</th>\n",
       "      <td>0.28</td>\n",
       "      <td>11.605029</td>\n",
       "      <td>0.193333</td>\n",
       "      <td>13.001930</td>\n",
       "      <td>0.526667</td>\n",
       "      <td>7.629232</td>\n",
       "      <td>0.28</td>\n",
       "      <td>11.605029</td>\n",
       "    </tr>\n",
       "    <tr>\n",
       "      <th>7</th>\n",
       "      <td>0.28</td>\n",
       "      <td>11.605029</td>\n",
       "      <td>0.193333</td>\n",
       "      <td>13.001930</td>\n",
       "      <td>0.526667</td>\n",
       "      <td>7.629232</td>\n",
       "      <td>0.28</td>\n",
       "      <td>11.605029</td>\n",
       "    </tr>\n",
       "    <tr>\n",
       "      <th>8</th>\n",
       "      <td>0.28</td>\n",
       "      <td>11.605029</td>\n",
       "      <td>0.193333</td>\n",
       "      <td>13.001930</td>\n",
       "      <td>0.526667</td>\n",
       "      <td>7.629232</td>\n",
       "      <td>0.28</td>\n",
       "      <td>11.605029</td>\n",
       "    </tr>\n",
       "    <tr>\n",
       "      <th>9</th>\n",
       "      <td>0.28</td>\n",
       "      <td>11.605029</td>\n",
       "      <td>0.193333</td>\n",
       "      <td>13.001930</td>\n",
       "      <td>0.526667</td>\n",
       "      <td>7.629232</td>\n",
       "      <td>0.28</td>\n",
       "      <td>11.605029</td>\n",
       "    </tr>\n",
       "  </tbody>\n",
       "</table>\n",
       "</div>"
      ],
      "text/plain": [
       "Learning Rates  0.01                 0.05                 0.10            \\\n",
       "metrics          acc       loss       acc       loss       acc      loss   \n",
       "0               0.28  11.605029  0.193333  13.001930  0.526667  7.629232   \n",
       "1               0.28  11.605029  0.193333  13.001930  0.526667  7.629232   \n",
       "2               0.28  11.605029  0.193333  13.001930  0.526667  7.629232   \n",
       "3               0.28  11.605029  0.193333  13.001931  0.526667  7.629232   \n",
       "4               0.28  11.605029  0.193333  13.001930  0.526667  7.629232   \n",
       "5               0.28  11.605029  0.193333  13.001930  0.526667  7.629232   \n",
       "6               0.28  11.605029  0.193333  13.001930  0.526667  7.629232   \n",
       "7               0.28  11.605029  0.193333  13.001930  0.526667  7.629232   \n",
       "8               0.28  11.605029  0.193333  13.001930  0.526667  7.629232   \n",
       "9               0.28  11.605029  0.193333  13.001930  0.526667  7.629232   \n",
       "\n",
       "Learning Rates  0.50             \n",
       "metrics          acc       loss  \n",
       "0               0.28  11.605028  \n",
       "1               0.28  11.605029  \n",
       "2               0.28  11.605029  \n",
       "3               0.28  11.605029  \n",
       "4               0.28  11.605029  \n",
       "5               0.28  11.605029  \n",
       "6               0.28  11.605029  \n",
       "7               0.28  11.605029  \n",
       "8               0.28  11.605029  \n",
       "9               0.28  11.605029  "
      ]
     },
     "execution_count": 14,
     "metadata": {},
     "output_type": "execute_result"
    }
   ],
   "source": [
    "historydf"
   ]
  },
  {
   "cell_type": "code",
   "execution_count": 15,
   "metadata": {},
   "outputs": [
    {
     "data": {
      "image/png": "[encoded data removed]",
      "text/plain": [
       "<matplotlib.figure.Figure at 0x181f045c630>"
      ]
     },
     "metadata": {},
     "output_type": "display_data"
    }
   ],
   "source": [
    "ax=plt.subplot(211)\n",
    "historydf.xs('loss', axis=1,level='metrics').plot(ylim =(0,1), ax=ax)\n",
    "plt.title(\"Loss\")\n",
    "\n",
    "ax=plt.subplot(212)\n",
    "historydf.xs('acc', axis=1,level='metrics').plot(ylim=(0,1), ax=ax)\n",
    "plt.title(\"Accuracy\")\n",
    "\n",
    "plt.xlabel(\"Epochs\")\n",
    "\n",
    "plt.tight_layout()"
   ]
  },
  {
   "cell_type": "markdown",
   "metadata": {
    "collapsed": true
   },
   "source": [
    "# Batch size\n"
   ]
  },
  {
   "cell_type": "code",
   "execution_count": 16,
   "metadata": {
    "collapsed": true
   },
   "outputs": [],
   "source": [
    "dflist=[]\n",
    "batch_sizes=[16,32,64,128]\n",
    "for batch_size in batch_sizes:\n",
    "    K.clear_session()\n",
    "    \n",
    "    model=Sequential()\n",
    "    model.add(Conv2D(25, (1,1), input_shape=input_shape))\n",
    "    model.add(Conv2D(25, (1,1)))\n",
    "    model.add(Activation('relu'))\n",
    "    model.add(Flatten())\n",
    "    model.add(Dense(25, activation='relu'))  #fully connected\n",
    "    model.add(Dense(25, activation='relu'))  #fully connected\n",
    "    model.add(Dense(3,activation='softmax'))  #output layer\n",
    "    model.compile(loss='categorical_crossentropy',\n",
    "              optimizer=Adam(lr=0.01),\n",
    "             metrics=['accuracy'])\n",
    "    h=model.fit(x_train,y_train, batch_size=batch_size, verbose=0)\n",
    "    dflist.append(pd.DataFrame(h.history,index=h.epoch)) "
   ]
  },
  {
   "cell_type": "code",
   "execution_count": 17,
   "metadata": {
    "collapsed": true
   },
   "outputs": [],
   "source": [
    "metrics_reported=dflist[0].columns\n",
    "idx=pd.MultiIndex.from_product([batch_sizes, metrics_reported], names=['batch_size','metrics'])\n",
    "\n",
    "historydf.columns=idx"
   ]
  },
  {
   "cell_type": "code",
   "execution_count": 18,
   "metadata": {},
   "outputs": [
    {
     "data": {
      "text/html": [
       "<div>\n",
       "<style>\n",
       "    .dataframe thead tr:only-child th {\n",
       "        text-align: right;\n",
       "    }\n",
       "\n",
       "    .dataframe thead th {\n",
       "        text-align: left;\n",
       "    }\n",
       "\n",
       "    .dataframe tbody tr th {\n",
       "        vertical-align: top;\n",
       "    }\n",
       "</style>\n",
       "<table border=\"1\" class=\"dataframe\">\n",
       "  <thead>\n",
       "    <tr>\n",
       "      <th>batch_size</th>\n",
       "      <th colspan=\"2\" halign=\"left\">16</th>\n",
       "      <th colspan=\"2\" halign=\"left\">32</th>\n",
       "      <th colspan=\"2\" halign=\"left\">64</th>\n",
       "      <th colspan=\"2\" halign=\"left\">128</th>\n",
       "    </tr>\n",
       "    <tr>\n",
       "      <th>metrics</th>\n",
       "      <th>acc</th>\n",
       "      <th>loss</th>\n",
       "      <th>acc</th>\n",
       "      <th>loss</th>\n",
       "      <th>acc</th>\n",
       "      <th>loss</th>\n",
       "      <th>acc</th>\n",
       "      <th>loss</th>\n",
       "    </tr>\n",
       "  </thead>\n",
       "  <tbody>\n",
       "    <tr>\n",
       "      <th>0</th>\n",
       "      <td>0.28</td>\n",
       "      <td>11.605029</td>\n",
       "      <td>0.193333</td>\n",
       "      <td>13.001930</td>\n",
       "      <td>0.526667</td>\n",
       "      <td>7.629232</td>\n",
       "      <td>0.28</td>\n",
       "      <td>11.605028</td>\n",
       "    </tr>\n",
       "    <tr>\n",
       "      <th>1</th>\n",
       "      <td>0.28</td>\n",
       "      <td>11.605029</td>\n",
       "      <td>0.193333</td>\n",
       "      <td>13.001930</td>\n",
       "      <td>0.526667</td>\n",
       "      <td>7.629232</td>\n",
       "      <td>0.28</td>\n",
       "      <td>11.605029</td>\n",
       "    </tr>\n",
       "    <tr>\n",
       "      <th>2</th>\n",
       "      <td>0.28</td>\n",
       "      <td>11.605029</td>\n",
       "      <td>0.193333</td>\n",
       "      <td>13.001930</td>\n",
       "      <td>0.526667</td>\n",
       "      <td>7.629232</td>\n",
       "      <td>0.28</td>\n",
       "      <td>11.605029</td>\n",
       "    </tr>\n",
       "    <tr>\n",
       "      <th>3</th>\n",
       "      <td>0.28</td>\n",
       "      <td>11.605029</td>\n",
       "      <td>0.193333</td>\n",
       "      <td>13.001931</td>\n",
       "      <td>0.526667</td>\n",
       "      <td>7.629232</td>\n",
       "      <td>0.28</td>\n",
       "      <td>11.605029</td>\n",
       "    </tr>\n",
       "    <tr>\n",
       "      <th>4</th>\n",
       "      <td>0.28</td>\n",
       "      <td>11.605029</td>\n",
       "      <td>0.193333</td>\n",
       "      <td>13.001930</td>\n",
       "      <td>0.526667</td>\n",
       "      <td>7.629232</td>\n",
       "      <td>0.28</td>\n",
       "      <td>11.605029</td>\n",
       "    </tr>\n",
       "    <tr>\n",
       "      <th>5</th>\n",
       "      <td>0.28</td>\n",
       "      <td>11.605029</td>\n",
       "      <td>0.193333</td>\n",
       "      <td>13.001930</td>\n",
       "      <td>0.526667</td>\n",
       "      <td>7.629232</td>\n",
       "      <td>0.28</td>\n",
       "      <td>11.605029</td>\n",
       "    </tr>\n",
       "    <tr>\n",
       "      <th>6</th>\n",
       "      <td>0.28</td>\n",
       "      <td>11.605029</td>\n",
       "      <td>0.193333</td>\n",
       "      <td>13.001930</td>\n",
       "      <td>0.526667</td>\n",
       "      <td>7.629232</td>\n",
       "      <td>0.28</td>\n",
       "      <td>11.605029</td>\n",
       "    </tr>\n",
       "    <tr>\n",
       "      <th>7</th>\n",
       "      <td>0.28</td>\n",
       "      <td>11.605029</td>\n",
       "      <td>0.193333</td>\n",
       "      <td>13.001930</td>\n",
       "      <td>0.526667</td>\n",
       "      <td>7.629232</td>\n",
       "      <td>0.28</td>\n",
       "      <td>11.605029</td>\n",
       "    </tr>\n",
       "    <tr>\n",
       "      <th>8</th>\n",
       "      <td>0.28</td>\n",
       "      <td>11.605029</td>\n",
       "      <td>0.193333</td>\n",
       "      <td>13.001930</td>\n",
       "      <td>0.526667</td>\n",
       "      <td>7.629232</td>\n",
       "      <td>0.28</td>\n",
       "      <td>11.605029</td>\n",
       "    </tr>\n",
       "    <tr>\n",
       "      <th>9</th>\n",
       "      <td>0.28</td>\n",
       "      <td>11.605029</td>\n",
       "      <td>0.193333</td>\n",
       "      <td>13.001930</td>\n",
       "      <td>0.526667</td>\n",
       "      <td>7.629232</td>\n",
       "      <td>0.28</td>\n",
       "      <td>11.605029</td>\n",
       "    </tr>\n",
       "  </tbody>\n",
       "</table>\n",
       "</div>"
      ],
      "text/plain": [
       "batch_size   16                   32                   64              128  \\\n",
       "metrics      acc       loss       acc       loss       acc      loss   acc   \n",
       "0           0.28  11.605029  0.193333  13.001930  0.526667  7.629232  0.28   \n",
       "1           0.28  11.605029  0.193333  13.001930  0.526667  7.629232  0.28   \n",
       "2           0.28  11.605029  0.193333  13.001930  0.526667  7.629232  0.28   \n",
       "3           0.28  11.605029  0.193333  13.001931  0.526667  7.629232  0.28   \n",
       "4           0.28  11.605029  0.193333  13.001930  0.526667  7.629232  0.28   \n",
       "5           0.28  11.605029  0.193333  13.001930  0.526667  7.629232  0.28   \n",
       "6           0.28  11.605029  0.193333  13.001930  0.526667  7.629232  0.28   \n",
       "7           0.28  11.605029  0.193333  13.001930  0.526667  7.629232  0.28   \n",
       "8           0.28  11.605029  0.193333  13.001930  0.526667  7.629232  0.28   \n",
       "9           0.28  11.605029  0.193333  13.001930  0.526667  7.629232  0.28   \n",
       "\n",
       "batch_size             \n",
       "metrics          loss  \n",
       "0           11.605028  \n",
       "1           11.605029  \n",
       "2           11.605029  \n",
       "3           11.605029  \n",
       "4           11.605029  \n",
       "5           11.605029  \n",
       "6           11.605029  \n",
       "7           11.605029  \n",
       "8           11.605029  \n",
       "9           11.605029  "
      ]
     },
     "execution_count": 18,
     "metadata": {},
     "output_type": "execute_result"
    }
   ],
   "source": [
    "historydf"
   ]
  },
  {
   "cell_type": "code",
   "execution_count": 19,
   "metadata": {},
   "outputs": [
    {
     "data": {
      "image/png": "[encoded data removed]",
      "text/plain": [
       "<matplotlib.figure.Figure at 0x181f00fc358>"
      ]
     },
     "metadata": {},
     "output_type": "display_data"
    }
   ],
   "source": [
    "ax=plt.subplot(211)\n",
    "historydf.xs('loss', axis=1,level='metrics').plot(ylim =(0,1), ax=ax)\n",
    "plt.title(\"Loss\")\n",
    "\n",
    "ax=plt.subplot(212)\n",
    "historydf.xs('acc', axis=1,level='metrics').plot(ylim=(0,1), ax=ax)\n",
    "plt.title(\"Accuracy\")\n",
    "\n",
    "plt.xlabel(\"Epochs\")\n",
    "\n",
    "plt.tight_layout()"
   ]
  },
  {
   "cell_type": "markdown",
   "metadata": {
    "collapsed": true
   },
   "source": [
    "# Optimizer\n"
   ]
  },
  {
   "cell_type": "code",
   "execution_count": 20,
   "metadata": {
    "collapsed": true
   },
   "outputs": [],
   "source": [
    "from keras.optimizers import SGD, Adam, Adagrad, RMSprop"
   ]
  },
  {
   "cell_type": "code",
   "execution_count": 21,
   "metadata": {
    "collapsed": true
   },
   "outputs": [],
   "source": [
    "dflist=[]\n",
    "optimizers=['SGD(lr=0.1)',\n",
    "           'SGD(lr=0.1, momentum=0.3)',\n",
    "           'SGD(lr=0.1, momentum=0.3, nesterov=True)',\n",
    "           'Adam(lr=0.1)',\n",
    "           'Adagrad(lr=0.1)',\n",
    "           'RMSprop(lr=0.1)']\n",
    "for opt_name in optimizers:\n",
    "    K.clear_session()\n",
    "    model=Sequential()\n",
    "    model.add(Conv2D(25, (1,1), input_shape=input_shape))\n",
    "    model.add(Conv2D(25, (1,1)))\n",
    "    model.add(Activation('relu'))\n",
    "    model.add(Flatten())\n",
    "    model.add(Dense(25, activation='relu'))  #fully connected\n",
    "    model.add(Dense(25, activation='relu'))  #fully connected\n",
    "    model.add(Dense(3,activation='softmax'))  #output layer\n",
    "    model.compile(loss='categorical_crossentropy',\n",
    "                  optimizer=eval(opt_name),\n",
    "                  metrics=['accuracy'])\n",
    "    h=model.fit(x_train,y_train, batch_size=64, epochs=10, verbose=0)\n",
    "    dflist.append(pd.DataFrame(h.history,index=h.epoch))        "
   ]
  },
  {
   "cell_type": "code",
   "execution_count": 22,
   "metadata": {
    "collapsed": true
   },
   "outputs": [],
   "source": [
    "historydf=pd.concat(dflist,axis=1)\n",
    "metrics_reported=dflist[0].columns\n",
    "idx=pd.MultiIndex.from_product([optimizers, metrics_reported], names=['optimizers','metric'])\n",
    "\n",
    "historydf.columns=idx"
   ]
  },
  {
   "cell_type": "code",
   "execution_count": 23,
   "metadata": {},
   "outputs": [
    {
     "data": {
      "text/html": [
       "<div>\n",
       "<style>\n",
       "    .dataframe thead tr:only-child th {\n",
       "        text-align: right;\n",
       "    }\n",
       "\n",
       "    .dataframe thead th {\n",
       "        text-align: left;\n",
       "    }\n",
       "\n",
       "    .dataframe tbody tr th {\n",
       "        vertical-align: top;\n",
       "    }\n",
       "</style>\n",
       "<table border=\"1\" class=\"dataframe\">\n",
       "  <thead>\n",
       "    <tr>\n",
       "      <th>optimizers</th>\n",
       "      <th colspan=\"2\" halign=\"left\">SGD(lr=0.1)</th>\n",
       "      <th colspan=\"2\" halign=\"left\">SGD(lr=0.1, momentum=0.3)</th>\n",
       "      <th colspan=\"2\" halign=\"left\">SGD(lr=0.1, momentum=0.3, nesterov=True)</th>\n",
       "      <th colspan=\"2\" halign=\"left\">Adam(lr=0.1)</th>\n",
       "      <th colspan=\"2\" halign=\"left\">Adagrad(lr=0.1)</th>\n",
       "      <th colspan=\"2\" halign=\"left\">RMSprop(lr=0.1)</th>\n",
       "    </tr>\n",
       "    <tr>\n",
       "      <th>metric</th>\n",
       "      <th>acc</th>\n",
       "      <th>loss</th>\n",
       "      <th>acc</th>\n",
       "      <th>loss</th>\n",
       "      <th>acc</th>\n",
       "      <th>loss</th>\n",
       "      <th>acc</th>\n",
       "      <th>loss</th>\n",
       "      <th>acc</th>\n",
       "      <th>loss</th>\n",
       "      <th>acc</th>\n",
       "      <th>loss</th>\n",
       "    </tr>\n",
       "  </thead>\n",
       "  <tbody>\n",
       "    <tr>\n",
       "      <th>0</th>\n",
       "      <td>0.28</td>\n",
       "      <td>11.607709</td>\n",
       "      <td>0.193333</td>\n",
       "      <td>13.001932</td>\n",
       "      <td>0.526667</td>\n",
       "      <td>7.629232</td>\n",
       "      <td>0.22</td>\n",
       "      <td>12.572116</td>\n",
       "      <td>0.160000</td>\n",
       "      <td>13.377644</td>\n",
       "      <td>0.5</td>\n",
       "      <td>8.059048</td>\n",
       "    </tr>\n",
       "    <tr>\n",
       "      <th>1</th>\n",
       "      <td>0.28</td>\n",
       "      <td>11.605030</td>\n",
       "      <td>0.193333</td>\n",
       "      <td>13.001932</td>\n",
       "      <td>0.526667</td>\n",
       "      <td>7.629232</td>\n",
       "      <td>0.22</td>\n",
       "      <td>12.572116</td>\n",
       "      <td>0.193333</td>\n",
       "      <td>13.001932</td>\n",
       "      <td>0.5</td>\n",
       "      <td>8.059048</td>\n",
       "    </tr>\n",
       "    <tr>\n",
       "      <th>2</th>\n",
       "      <td>0.28</td>\n",
       "      <td>11.605030</td>\n",
       "      <td>0.193333</td>\n",
       "      <td>13.001932</td>\n",
       "      <td>0.526667</td>\n",
       "      <td>7.629232</td>\n",
       "      <td>0.22</td>\n",
       "      <td>12.572116</td>\n",
       "      <td>0.193333</td>\n",
       "      <td>13.001932</td>\n",
       "      <td>0.5</td>\n",
       "      <td>8.059048</td>\n",
       "    </tr>\n",
       "    <tr>\n",
       "      <th>3</th>\n",
       "      <td>0.28</td>\n",
       "      <td>11.605030</td>\n",
       "      <td>0.193333</td>\n",
       "      <td>13.001932</td>\n",
       "      <td>0.526667</td>\n",
       "      <td>7.629232</td>\n",
       "      <td>0.22</td>\n",
       "      <td>12.572116</td>\n",
       "      <td>0.193333</td>\n",
       "      <td>13.001932</td>\n",
       "      <td>0.5</td>\n",
       "      <td>8.059048</td>\n",
       "    </tr>\n",
       "    <tr>\n",
       "      <th>4</th>\n",
       "      <td>0.28</td>\n",
       "      <td>11.605030</td>\n",
       "      <td>0.193333</td>\n",
       "      <td>13.001932</td>\n",
       "      <td>0.526667</td>\n",
       "      <td>7.629232</td>\n",
       "      <td>0.22</td>\n",
       "      <td>12.572116</td>\n",
       "      <td>0.193333</td>\n",
       "      <td>13.001932</td>\n",
       "      <td>0.5</td>\n",
       "      <td>8.059048</td>\n",
       "    </tr>\n",
       "    <tr>\n",
       "      <th>5</th>\n",
       "      <td>0.28</td>\n",
       "      <td>11.605030</td>\n",
       "      <td>0.193333</td>\n",
       "      <td>13.001932</td>\n",
       "      <td>0.526667</td>\n",
       "      <td>7.629232</td>\n",
       "      <td>0.22</td>\n",
       "      <td>12.572116</td>\n",
       "      <td>0.193333</td>\n",
       "      <td>13.001932</td>\n",
       "      <td>0.5</td>\n",
       "      <td>8.059048</td>\n",
       "    </tr>\n",
       "    <tr>\n",
       "      <th>6</th>\n",
       "      <td>0.28</td>\n",
       "      <td>11.605030</td>\n",
       "      <td>0.193333</td>\n",
       "      <td>13.001932</td>\n",
       "      <td>0.526667</td>\n",
       "      <td>7.629232</td>\n",
       "      <td>0.22</td>\n",
       "      <td>12.572116</td>\n",
       "      <td>0.193333</td>\n",
       "      <td>13.001932</td>\n",
       "      <td>0.5</td>\n",
       "      <td>8.059048</td>\n",
       "    </tr>\n",
       "    <tr>\n",
       "      <th>7</th>\n",
       "      <td>0.28</td>\n",
       "      <td>11.605030</td>\n",
       "      <td>0.193333</td>\n",
       "      <td>13.001932</td>\n",
       "      <td>0.526667</td>\n",
       "      <td>7.629232</td>\n",
       "      <td>0.22</td>\n",
       "      <td>12.572116</td>\n",
       "      <td>0.193333</td>\n",
       "      <td>13.001932</td>\n",
       "      <td>0.5</td>\n",
       "      <td>8.059048</td>\n",
       "    </tr>\n",
       "    <tr>\n",
       "      <th>8</th>\n",
       "      <td>0.28</td>\n",
       "      <td>11.605030</td>\n",
       "      <td>0.193333</td>\n",
       "      <td>13.001932</td>\n",
       "      <td>0.526667</td>\n",
       "      <td>7.629232</td>\n",
       "      <td>0.22</td>\n",
       "      <td>12.572116</td>\n",
       "      <td>0.193333</td>\n",
       "      <td>13.001932</td>\n",
       "      <td>0.5</td>\n",
       "      <td>8.059048</td>\n",
       "    </tr>\n",
       "    <tr>\n",
       "      <th>9</th>\n",
       "      <td>0.28</td>\n",
       "      <td>11.605030</td>\n",
       "      <td>0.193333</td>\n",
       "      <td>13.001932</td>\n",
       "      <td>0.526667</td>\n",
       "      <td>7.629232</td>\n",
       "      <td>0.22</td>\n",
       "      <td>12.572116</td>\n",
       "      <td>0.193333</td>\n",
       "      <td>13.001932</td>\n",
       "      <td>0.5</td>\n",
       "      <td>8.059048</td>\n",
       "    </tr>\n",
       "  </tbody>\n",
       "</table>\n",
       "</div>"
      ],
      "text/plain": [
       "optimizers SGD(lr=0.1)            SGD(lr=0.1, momentum=0.3)             \\\n",
       "metric             acc       loss                       acc       loss   \n",
       "0                 0.28  11.607709                  0.193333  13.001932   \n",
       "1                 0.28  11.605030                  0.193333  13.001932   \n",
       "2                 0.28  11.605030                  0.193333  13.001932   \n",
       "3                 0.28  11.605030                  0.193333  13.001932   \n",
       "4                 0.28  11.605030                  0.193333  13.001932   \n",
       "5                 0.28  11.605030                  0.193333  13.001932   \n",
       "6                 0.28  11.605030                  0.193333  13.001932   \n",
       "7                 0.28  11.605030                  0.193333  13.001932   \n",
       "8                 0.28  11.605030                  0.193333  13.001932   \n",
       "9                 0.28  11.605030                  0.193333  13.001932   \n",
       "\n",
       "optimizers SGD(lr=0.1, momentum=0.3, nesterov=True)           Adam(lr=0.1)  \\\n",
       "metric                                          acc      loss          acc   \n",
       "0                                          0.526667  7.629232         0.22   \n",
       "1                                          0.526667  7.629232         0.22   \n",
       "2                                          0.526667  7.629232         0.22   \n",
       "3                                          0.526667  7.629232         0.22   \n",
       "4                                          0.526667  7.629232         0.22   \n",
       "5                                          0.526667  7.629232         0.22   \n",
       "6                                          0.526667  7.629232         0.22   \n",
       "7                                          0.526667  7.629232         0.22   \n",
       "8                                          0.526667  7.629232         0.22   \n",
       "9                                          0.526667  7.629232         0.22   \n",
       "\n",
       "optimizers            Adagrad(lr=0.1)            RMSprop(lr=0.1)            \n",
       "metric           loss             acc       loss             acc      loss  \n",
       "0           12.572116        0.160000  13.377644             0.5  8.059048  \n",
       "1           12.572116        0.193333  13.001932             0.5  8.059048  \n",
       "2           12.572116        0.193333  13.001932             0.5  8.059048  \n",
       "3           12.572116        0.193333  13.001932             0.5  8.059048  \n",
       "4           12.572116        0.193333  13.001932             0.5  8.059048  \n",
       "5           12.572116        0.193333  13.001932             0.5  8.059048  \n",
       "6           12.572116        0.193333  13.001932             0.5  8.059048  \n",
       "7           12.572116        0.193333  13.001932             0.5  8.059048  \n",
       "8           12.572116        0.193333  13.001932             0.5  8.059048  \n",
       "9           12.572116        0.193333  13.001932             0.5  8.059048  "
      ]
     },
     "execution_count": 23,
     "metadata": {},
     "output_type": "execute_result"
    }
   ],
   "source": [
    "historydf"
   ]
  },
  {
   "cell_type": "code",
   "execution_count": 24,
   "metadata": {},
   "outputs": [
    {
     "data": {
      "image/png": "[encoded data removed]",
      "text/plain": [
       "<matplotlib.figure.Figure at 0x181f005a390>"
      ]
     },
     "metadata": {},
     "output_type": "display_data"
    }
   ],
   "source": [
    "ax=plt.subplot(211)\n",
    "historydf.xs('loss', axis=1,level='metric').plot(ylim =(0,1), ax=ax)\n",
    "plt.title(\"Loss\")\n",
    "\n",
    "ax=plt.subplot(212)\n",
    "historydf.xs('acc', axis=1,level='metric').plot(ylim=(0,1), ax=ax)\n",
    "plt.title(\"Accuracy\")\n",
    "\n",
    "plt.xlabel(\"Epochs\")\n",
    "\n",
    "plt.tight_layout()"
   ]
  },
  {
   "cell_type": "markdown",
   "metadata": {
    "collapsed": true
   },
   "source": []
  },
  {
   "cell_type": "code",
   "execution_count": null,
   "metadata": {
    "collapsed": true
   },
   "outputs": [],
   "source": [
    "\n"
   ]
  },
  {
   "cell_type": "markdown",
   "metadata": {},
   "source": [
    "# feed forward deep NN"
   ]
  },
  {
   "cell_type": "code",
   "execution_count": null,
   "metadata": {
    "collapsed": true
   },
   "outputs": [],
   "source": []
  },
  {
   "cell_type": "code",
   "execution_count": 25,
   "metadata": {
    "collapsed": true
   },
   "outputs": [],
   "source": [
    "# feed forward deep neural network\n",
    "\n",
    "\n",
    "from keras.optimizers import SGD, Adam, Adagrad, RMSprop\n",
    "\n",
    "dflist=[]\n",
    "optimizers=['SGD(lr=0.1)',\n",
    "           'SGD(lr=0.1, momentum=0.3)',\n",
    "           'SGD(lr=0.1, momentum=0.3, nesterov=True)',\n",
    "           'Adam(lr=0.1)',\n",
    "           'Adagrad(lr=0.1)',\n",
    "           'RMSprop(lr=0.1)']\n",
    "for opt_name in optimizers:\n",
    "    K.clear_session()\n",
    "    model=Sequential()\n",
    " \n",
    "    model.add(Dense(25, activation='relu', input_shape=input_shape)) # Input Dense layer\n",
    "    model.add(Dense(25, activation='relu')) # Input Dense layer\n",
    "    model.add(Dense(25, activation='relu')) # Input Dense layer\n",
    "    \n",
    "    model.add(Flatten())\n",
    "    model.add(Dense(3, activation='softmax')) # Output layer with Softmax activation function\n",
    "   \n",
    "    model.compile(loss='categorical_crossentropy',\n",
    "                  optimizer=eval(opt_name),\n",
    "                  metrics=['accuracy'])\n",
    "    h=model.fit(x_train,y_train, batch_size=16, epochs=10, verbose=0)\n",
    "    dflist.append(pd.DataFrame(h.history,index=h.epoch))\n",
    "\n"
   ]
  },
  {
   "cell_type": "code",
   "execution_count": 26,
   "metadata": {
    "collapsed": true
   },
   "outputs": [],
   "source": [
    "historydf=pd.concat(dflist,axis=1)\n",
    "metrics_reported=dflist[0].columns\n",
    "idx=pd.MultiIndex.from_product([optimizers, metrics_reported], names=['optimizers','metric'])\n",
    "\n",
    "historydf.columns=idx\n",
    "\n"
   ]
  },
  {
   "cell_type": "code",
   "execution_count": 27,
   "metadata": {},
   "outputs": [
    {
     "data": {
      "text/html": [
       "<div>\n",
       "<style>\n",
       "    .dataframe thead tr:only-child th {\n",
       "        text-align: right;\n",
       "    }\n",
       "\n",
       "    .dataframe thead th {\n",
       "        text-align: left;\n",
       "    }\n",
       "\n",
       "    .dataframe tbody tr th {\n",
       "        vertical-align: top;\n",
       "    }\n",
       "</style>\n",
       "<table border=\"1\" class=\"dataframe\">\n",
       "  <thead>\n",
       "    <tr>\n",
       "      <th>optimizers</th>\n",
       "      <th colspan=\"2\" halign=\"left\">SGD(lr=0.1)</th>\n",
       "      <th colspan=\"2\" halign=\"left\">SGD(lr=0.1, momentum=0.3)</th>\n",
       "      <th colspan=\"2\" halign=\"left\">SGD(lr=0.1, momentum=0.3, nesterov=True)</th>\n",
       "      <th colspan=\"2\" halign=\"left\">Adam(lr=0.1)</th>\n",
       "      <th colspan=\"2\" halign=\"left\">Adagrad(lr=0.1)</th>\n",
       "      <th colspan=\"2\" halign=\"left\">RMSprop(lr=0.1)</th>\n",
       "    </tr>\n",
       "    <tr>\n",
       "      <th>metric</th>\n",
       "      <th>acc</th>\n",
       "      <th>loss</th>\n",
       "      <th>acc</th>\n",
       "      <th>loss</th>\n",
       "      <th>acc</th>\n",
       "      <th>loss</th>\n",
       "      <th>acc</th>\n",
       "      <th>loss</th>\n",
       "      <th>acc</th>\n",
       "      <th>loss</th>\n",
       "      <th>acc</th>\n",
       "      <th>loss</th>\n",
       "    </tr>\n",
       "  </thead>\n",
       "  <tbody>\n",
       "    <tr>\n",
       "      <th>0</th>\n",
       "      <td>0.193333</td>\n",
       "      <td>13.001930</td>\n",
       "      <td>0.26</td>\n",
       "      <td>11.909135</td>\n",
       "      <td>0.28</td>\n",
       "      <td>11.605029</td>\n",
       "      <td>0.500000</td>\n",
       "      <td>7.963994</td>\n",
       "      <td>0.193333</td>\n",
       "      <td>13.00193</td>\n",
       "      <td>0.193333</td>\n",
       "      <td>12.983015</td>\n",
       "    </tr>\n",
       "    <tr>\n",
       "      <th>1</th>\n",
       "      <td>0.193333</td>\n",
       "      <td>13.001931</td>\n",
       "      <td>0.28</td>\n",
       "      <td>11.605029</td>\n",
       "      <td>0.28</td>\n",
       "      <td>11.605029</td>\n",
       "      <td>0.526667</td>\n",
       "      <td>7.629232</td>\n",
       "      <td>0.193333</td>\n",
       "      <td>13.00193</td>\n",
       "      <td>0.193333</td>\n",
       "      <td>13.001930</td>\n",
       "    </tr>\n",
       "    <tr>\n",
       "      <th>2</th>\n",
       "      <td>0.193333</td>\n",
       "      <td>13.001930</td>\n",
       "      <td>0.28</td>\n",
       "      <td>11.605028</td>\n",
       "      <td>0.28</td>\n",
       "      <td>11.605028</td>\n",
       "      <td>0.526667</td>\n",
       "      <td>7.629232</td>\n",
       "      <td>0.193333</td>\n",
       "      <td>13.00193</td>\n",
       "      <td>0.193333</td>\n",
       "      <td>13.001930</td>\n",
       "    </tr>\n",
       "    <tr>\n",
       "      <th>3</th>\n",
       "      <td>0.193333</td>\n",
       "      <td>13.001930</td>\n",
       "      <td>0.28</td>\n",
       "      <td>11.605029</td>\n",
       "      <td>0.28</td>\n",
       "      <td>11.605029</td>\n",
       "      <td>0.526667</td>\n",
       "      <td>7.629232</td>\n",
       "      <td>0.193333</td>\n",
       "      <td>13.00193</td>\n",
       "      <td>0.193333</td>\n",
       "      <td>13.001930</td>\n",
       "    </tr>\n",
       "    <tr>\n",
       "      <th>4</th>\n",
       "      <td>0.193333</td>\n",
       "      <td>13.001930</td>\n",
       "      <td>0.28</td>\n",
       "      <td>11.605029</td>\n",
       "      <td>0.28</td>\n",
       "      <td>11.605029</td>\n",
       "      <td>0.526667</td>\n",
       "      <td>7.629232</td>\n",
       "      <td>0.193333</td>\n",
       "      <td>13.00193</td>\n",
       "      <td>0.193333</td>\n",
       "      <td>13.001930</td>\n",
       "    </tr>\n",
       "    <tr>\n",
       "      <th>5</th>\n",
       "      <td>0.193333</td>\n",
       "      <td>13.001930</td>\n",
       "      <td>0.28</td>\n",
       "      <td>11.605029</td>\n",
       "      <td>0.28</td>\n",
       "      <td>11.605029</td>\n",
       "      <td>0.526667</td>\n",
       "      <td>7.629232</td>\n",
       "      <td>0.193333</td>\n",
       "      <td>13.00193</td>\n",
       "      <td>0.193333</td>\n",
       "      <td>13.001930</td>\n",
       "    </tr>\n",
       "    <tr>\n",
       "      <th>6</th>\n",
       "      <td>0.193333</td>\n",
       "      <td>13.001930</td>\n",
       "      <td>0.28</td>\n",
       "      <td>11.605029</td>\n",
       "      <td>0.28</td>\n",
       "      <td>11.605029</td>\n",
       "      <td>0.526667</td>\n",
       "      <td>7.629232</td>\n",
       "      <td>0.193333</td>\n",
       "      <td>13.00193</td>\n",
       "      <td>0.193333</td>\n",
       "      <td>13.001930</td>\n",
       "    </tr>\n",
       "    <tr>\n",
       "      <th>7</th>\n",
       "      <td>0.193333</td>\n",
       "      <td>13.001930</td>\n",
       "      <td>0.28</td>\n",
       "      <td>11.605029</td>\n",
       "      <td>0.28</td>\n",
       "      <td>11.605029</td>\n",
       "      <td>0.526667</td>\n",
       "      <td>7.629232</td>\n",
       "      <td>0.193333</td>\n",
       "      <td>13.00193</td>\n",
       "      <td>0.193333</td>\n",
       "      <td>13.001930</td>\n",
       "    </tr>\n",
       "    <tr>\n",
       "      <th>8</th>\n",
       "      <td>0.193333</td>\n",
       "      <td>13.001930</td>\n",
       "      <td>0.28</td>\n",
       "      <td>11.605029</td>\n",
       "      <td>0.28</td>\n",
       "      <td>11.605029</td>\n",
       "      <td>0.526667</td>\n",
       "      <td>7.629232</td>\n",
       "      <td>0.193333</td>\n",
       "      <td>13.00193</td>\n",
       "      <td>0.193333</td>\n",
       "      <td>13.001930</td>\n",
       "    </tr>\n",
       "    <tr>\n",
       "      <th>9</th>\n",
       "      <td>0.193333</td>\n",
       "      <td>13.001930</td>\n",
       "      <td>0.28</td>\n",
       "      <td>11.605029</td>\n",
       "      <td>0.28</td>\n",
       "      <td>11.605029</td>\n",
       "      <td>0.526667</td>\n",
       "      <td>7.629232</td>\n",
       "      <td>0.193333</td>\n",
       "      <td>13.00193</td>\n",
       "      <td>0.193333</td>\n",
       "      <td>13.001930</td>\n",
       "    </tr>\n",
       "  </tbody>\n",
       "</table>\n",
       "</div>"
      ],
      "text/plain": [
       "optimizers SGD(lr=0.1)            SGD(lr=0.1, momentum=0.3)             \\\n",
       "metric             acc       loss                       acc       loss   \n",
       "0             0.193333  13.001930                      0.26  11.909135   \n",
       "1             0.193333  13.001931                      0.28  11.605029   \n",
       "2             0.193333  13.001930                      0.28  11.605028   \n",
       "3             0.193333  13.001930                      0.28  11.605029   \n",
       "4             0.193333  13.001930                      0.28  11.605029   \n",
       "5             0.193333  13.001930                      0.28  11.605029   \n",
       "6             0.193333  13.001930                      0.28  11.605029   \n",
       "7             0.193333  13.001930                      0.28  11.605029   \n",
       "8             0.193333  13.001930                      0.28  11.605029   \n",
       "9             0.193333  13.001930                      0.28  11.605029   \n",
       "\n",
       "optimizers SGD(lr=0.1, momentum=0.3, nesterov=True)            Adam(lr=0.1)  \\\n",
       "metric                                          acc       loss          acc   \n",
       "0                                              0.28  11.605029     0.500000   \n",
       "1                                              0.28  11.605029     0.526667   \n",
       "2                                              0.28  11.605028     0.526667   \n",
       "3                                              0.28  11.605029     0.526667   \n",
       "4                                              0.28  11.605029     0.526667   \n",
       "5                                              0.28  11.605029     0.526667   \n",
       "6                                              0.28  11.605029     0.526667   \n",
       "7                                              0.28  11.605029     0.526667   \n",
       "8                                              0.28  11.605029     0.526667   \n",
       "9                                              0.28  11.605029     0.526667   \n",
       "\n",
       "optimizers           Adagrad(lr=0.1)           RMSprop(lr=0.1)             \n",
       "metric          loss             acc      loss             acc       loss  \n",
       "0           7.963994        0.193333  13.00193        0.193333  12.983015  \n",
       "1           7.629232        0.193333  13.00193        0.193333  13.001930  \n",
       "2           7.629232        0.193333  13.00193        0.193333  13.001930  \n",
       "3           7.629232        0.193333  13.00193        0.193333  13.001930  \n",
       "4           7.629232        0.193333  13.00193        0.193333  13.001930  \n",
       "5           7.629232        0.193333  13.00193        0.193333  13.001930  \n",
       "6           7.629232        0.193333  13.00193        0.193333  13.001930  \n",
       "7           7.629232        0.193333  13.00193        0.193333  13.001930  \n",
       "8           7.629232        0.193333  13.00193        0.193333  13.001930  \n",
       "9           7.629232        0.193333  13.00193        0.193333  13.001930  "
      ]
     },
     "execution_count": 27,
     "metadata": {},
     "output_type": "execute_result"
    }
   ],
   "source": [
    "historydf\n"
   ]
  },
  {
   "cell_type": "code",
   "execution_count": 28,
   "metadata": {},
   "outputs": [
    {
     "data": {
      "image/png": "[encoded data removed]",
      "text/plain": [
       "<matplotlib.figure.Figure at 0x181f0169080>"
      ]
     },
     "metadata": {},
     "output_type": "display_data"
    }
   ],
   "source": [
    "ax=plt.subplot(211)\n",
    "historydf.xs('loss', axis=1,level='metric').plot(ylim =(0,1), ax=ax)\n",
    "plt.title(\"Loss\")\n",
    "\n",
    "ax=plt.subplot(212)\n",
    "historydf.xs('acc', axis=1,level='metric').plot(ylim=(0,1), ax=ax)\n",
    "plt.title(\"Accuracy\")\n",
    "\n",
    "plt.xlabel(\"Epochs\")\n",
    "\n",
    "plt.tight_layout()"
   ]
  },
  {
   "cell_type": "code",
   "execution_count": null,
   "metadata": {
    "collapsed": true
   },
   "outputs": [],
   "source": []
  },
  {
   "cell_type": "code",
   "execution_count": null,
   "metadata": {
    "collapsed": true
   },
   "outputs": [],
   "source": []
  },
  {
   "cell_type": "code",
   "execution_count": null,
   "metadata": {
    "collapsed": true
   },
   "outputs": [],
   "source": []
  },
  {
   "cell_type": "code",
   "execution_count": null,
   "metadata": {
    "collapsed": true
   },
   "outputs": [],
   "source": []
  },
  {
   "cell_type": "code",
   "execution_count": null,
   "metadata": {
    "collapsed": true
   },
   "outputs": [],
   "source": []
  }
 ],
 "metadata": {
  "anaconda-cloud": {},
  "kernelspec": {
   "display_name": "Python 2",
   "language": "python",
   "name": "python2"
  },
  "language_info": {
   "codemirror_mode": {
    "name": "ipython",
    "version": 2
   },
   "file_extension": ".py",
   "mimetype": "text/x-python",
   "name": "python",
   "nbconvert_exporter": "python",
   "pygments_lexer": "ipython2",
   "version": "2.7.10"
  }
 },
 "nbformat": 4,
 "nbformat_minor": 1
}
